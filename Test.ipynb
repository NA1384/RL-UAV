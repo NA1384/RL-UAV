{
 "cells": [
  {
   "cell_type": "code",
   "execution_count": 2,
   "outputs": [
    {
     "name": "stdout",
     "output_type": "stream",
     "text": [
      "1.0181445\n",
      "0.5889199032253803\n"
     ]
    }
   ],
   "source": [
    "a = 0.940687\n",
    "b = 0.737368\n",
    "c = 0.0774575\n",
    "x = 0\n",
    "y = 2\n",
    "\n",
    "cx = (a * pow(b, x)) + c\n",
    "cy = (a * pow(b, y)) + c\n",
    "\n",
    "\n",
    "print(cx)\n",
    "print(cy)"
   ],
   "metadata": {
    "collapsed": false,
    "pycharm": {
     "name": "#%%\n"
    }
   }
  },
  {
   "cell_type": "code",
   "execution_count": null,
   "outputs": [],
   "source": [],
   "metadata": {
    "collapsed": false,
    "pycharm": {
     "name": "#%%\n"
    }
   }
  }
 ],
 "metadata": {
  "kernelspec": {
   "display_name": "Python 3",
   "language": "python",
   "name": "python3"
  },
  "language_info": {
   "codemirror_mode": {
    "name": "ipython",
    "version": 2
   },
   "file_extension": ".py",
   "mimetype": "text/x-python",
   "name": "python",
   "nbconvert_exporter": "python",
   "pygments_lexer": "ipython2",
   "version": "2.7.6"
  }
 },
 "nbformat": 4,
 "nbformat_minor": 0
}